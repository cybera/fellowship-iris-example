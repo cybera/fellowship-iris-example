{
 "cells": [
  {
   "cell_type": "code",
   "execution_count": null,
   "id": "5d4dfeb9",
   "metadata": {
    "scrolled": true
   },
   "outputs": [],
   "source": [
    "import sys\n",
    "sys.path.append('/home/jovyan/')\n",
    "\n",
    "import pandas as pd\n",
    "import sklearn\n",
    "import sklearn.datasets\n",
    "\n",
    "import scripts.visualization.graphs as myGraphs\n",
    "\n",
    "import matplotlib.pyplot as plt\n",
    "plt.rcParams['figure.figsize'] = (12,12)"
   ]
  },
  {
   "cell_type": "code",
   "execution_count": null,
   "id": "8cd68ddf",
   "metadata": {},
   "outputs": [],
   "source": [
    "data = sklearn.datasets.load_iris(as_frame=True)"
   ]
  },
  {
   "cell_type": "code",
   "execution_count": null,
   "id": "e7d83ce5",
   "metadata": {},
   "outputs": [],
   "source": [
    "data['target_names']"
   ]
  },
  {
   "cell_type": "code",
   "execution_count": null,
   "id": "7991eaf8",
   "metadata": {},
   "outputs": [],
   "source": [
    "df = data['frame']\n",
    "df.head()"
   ]
  },
  {
   "cell_type": "code",
   "execution_count": null,
   "id": "800f194d-b3c2-4828-b0f0-c4ef36ca7bd5",
   "metadata": {},
   "outputs": [],
   "source": [
    "fig, axs = myGraphs.scatterMatrix(df, 'target')"
   ]
  }
 ],
 "metadata": {
  "kernelspec": {
   "display_name": "Python 3 (ipykernel)",
   "language": "python",
   "name": "python3"
  },
  "language_info": {
   "codemirror_mode": {
    "name": "ipython",
    "version": 3
   },
   "file_extension": ".py",
   "mimetype": "text/x-python",
   "name": "python",
   "nbconvert_exporter": "python",
   "pygments_lexer": "ipython3",
   "version": "3.9.6"
  }
 },
 "nbformat": 4,
 "nbformat_minor": 5
}
