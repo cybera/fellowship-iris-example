{
 "cells": [
  {
   "cell_type": "markdown",
   "id": "9a271109-0b96-498c-ad30-fd11b7b50245",
   "metadata": {},
   "source": [
    "# Make Basic Data Visualization\n",
    "Loads the imported data and makes a simple matrix scatter \n",
    "plot (or pair plot). The graphed data is saved to the report folder."
   ]
  },
  {
   "cell_type": "code",
   "execution_count": null,
   "id": "0f4ab809-305e-48c8-8bf6-35acbe3683b6",
   "metadata": {},
   "outputs": [],
   "source": [
    "import sys\n",
    "sys.path.append('/home/jovyan/')\n",
    "import scripts.data.raw_data as raw_data\n",
    "import seaborn as sns\n",
    "import matplotlib.pyplot as plt"
   ]
  },
  {
   "cell_type": "code",
   "execution_count": null,
   "id": "b50e9970-b38a-4361-9263-5f0cc44277eb",
   "metadata": {},
   "outputs": [],
   "source": [
    "plt.rcParams['font.size'] = 16"
   ]
  },
  {
   "cell_type": "code",
   "execution_count": null,
   "id": "6547d101-14e9-406d-8248-70799cac961b",
   "metadata": {},
   "outputs": [],
   "source": [
    "df = raw_data.getRaw()"
   ]
  },
  {
   "cell_type": "code",
   "execution_count": null,
   "id": "76da6c0b-ee23-42e5-aa4e-a25f898b262e",
   "metadata": {},
   "outputs": [],
   "source": [
    "df"
   ]
  },
  {
   "cell_type": "code",
   "execution_count": null,
   "id": "8f67dfab-2a59-4c06-a71e-d8c8ae3174c9",
   "metadata": {},
   "outputs": [],
   "source": [
    "#sns.set_theme(style=\"ticks\")\n",
    "fig = sns.pairplot(df, vars = df.columns[0:4], hue=\"target_names\",  markers=[\"o\", \"s\", \"D\"], palette='Set2')"
   ]
  },
  {
   "cell_type": "code",
   "execution_count": null,
   "id": "18d7f9df-5a84-48be-bb6a-9eafd7610fa6",
   "metadata": {},
   "outputs": [],
   "source": [
    "fig.savefig('/home/jovyan/report/MatrixScatterTransparent.png')\n",
    "fig.savefig('/home/jovyan/report/MatrixScatter.png', facecolor='white')"
   ]
  }
 ],
 "metadata": {
  "kernelspec": {
   "display_name": "Python 3 (ipykernel)",
   "language": "python",
   "name": "python3"
  },
  "language_info": {
   "codemirror_mode": {
    "name": "ipython",
    "version": 3
   },
   "file_extension": ".py",
   "mimetype": "text/x-python",
   "name": "python",
   "nbconvert_exporter": "python",
   "pygments_lexer": "ipython3",
   "version": "3.9.6"
  }
 },
 "nbformat": 4,
 "nbformat_minor": 5
}
