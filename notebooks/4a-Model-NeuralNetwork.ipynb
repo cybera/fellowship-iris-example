{
 "cells": [
  {
   "cell_type": "code",
   "execution_count": null,
   "id": "ae2b9d54-a9dd-48d3-acd8-38c0f13e9e6f",
   "metadata": {},
   "outputs": [],
   "source": []
  }
 ],
 "metadata": {
  "kernelspec": {
   "display_name": "Python 3 (ipykernel)",
   "language": "python",
   "name": "python3"
  },
  "language_info": {
   "codemirror_mode": {
    "name": "ipython",
    "version": 3
   },
   "file_extension": ".py",
   "mimetype": "text/x-python",
   "name": "python",
   "nbconvert_exporter": "python",
   "pygments_lexer": "ipython3",
   "version": "3.9.6"
  }
 },
 "nbformat": 4,
 "nbformat_minor": 5
}
