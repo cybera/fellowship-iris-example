{
 "cells": [
  {
   "cell_type": "code",
   "execution_count": 1,
   "id": "594aa46a-f0ca-42f5-8513-00352b4c1c83",
   "metadata": {},
   "outputs": [],
   "source": [
    "import pandas as pd\n",
    "import sklearn\n",
    "import sklearn.datasets\n",
    "\n",
    "\n",
    "\n",
    "def saveData():\n",
    "    data = sklearn.datasets.load_iris(as_frame=True)\n",
    "    df = data['frame']\n",
    "    df.to_csv('home/jovyan/data/raw/iris-data.csv')"
   ]
  }
 ],
 "metadata": {
  "kernelspec": {
   "display_name": "Python 3 (ipykernel)",
   "language": "python",
   "name": "python3"
  },
  "language_info": {
   "codemirror_mode": {
    "name": "ipython",
    "version": 3
   },
   "file_extension": ".py",
   "mimetype": "text/x-python",
   "name": "python",
   "nbconvert_exporter": "python",
   "pygments_lexer": "ipython3",
   "version": "3.9.6"
  }
 },
 "nbformat": 4,
 "nbformat_minor": 5
}
